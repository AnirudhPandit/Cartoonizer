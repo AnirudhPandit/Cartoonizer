{
  "nbformat": 4,
  "nbformat_minor": 0,
  "metadata": {
    "colab": {
      "provenance": []
    },
    "kernelspec": {
      "name": "python3",
      "display_name": "Python 3"
    },
    "language_info": {
      "name": "python"
    }
  },
  "cells": [
    {
      "cell_type": "code",
      "source": [
        "import cv2"
      ],
      "metadata": {
        "id": "jL49_C7OsxlM"
      },
      "execution_count": 2,
      "outputs": []
    },
    {
      "cell_type": "code",
      "source": [
        "import numpy as np"
      ],
      "metadata": {
        "id": "zTz9Z4nJszI3"
      },
      "execution_count": 3,
      "outputs": []
    },
    {
      "cell_type": "code",
      "source": [
        "def read_img(filename):\n",
        "   img=cv2.imread(filename)\n",
        "   return img"
      ],
      "metadata": {
        "id": "fWeq2I-Xs3M0"
      },
      "execution_count": 4,
      "outputs": []
    },
    {
      "cell_type": "code",
      "source": [
        "def edge_detection(img,line_width,blur):\n",
        "    gray=cv2.cvtColor(img,cv2.COLOR_BGR2GRAY)\n",
        "    grayblur=cv2.medianBlur(gray,blur)\n",
        "    edges=cv2.adaptiveThreshold(grayblur,255,cv2.ADAPTIVE_THRESH_MEAN_C,cv2.THRESH_BINARY,line_width,blur)\n",
        "    return edges"
      ],
      "metadata": {
        "id": "KLIMp30RtSVl"
      },
      "execution_count": 5,
      "outputs": []
    },
    {
      "cell_type": "code",
      "source": [
        "def color_quantise(img,k):\n",
        "    data=np.float32(img).reshape((-1,3))\n",
        "    criteria=(cv2.TermCriteria_EPS+cv2.TermCriteria_MAX_ITER,20,0.001)\n",
        "    ret,label,center=cv2.kmeans(data,k,None,criteria,10,cv2.KMEANS_RANDOM_CENTERS)\n",
        "    center=np.uint8(center)\n",
        "    result=center[label.flatten()]\n",
        "    result=result.reshape(img.shape)\n",
        "    return result"
      ],
      "metadata": {
        "id": "I53HXZpSu9E5"
      },
      "execution_count": 6,
      "outputs": []
    },
    {
      "cell_type": "code",
      "source": [
        "img=read_img('/fauzan-saari-cjYQBSKDSII-unsplash.jpg')\n",
        "line_width=9\n",
        "blur_value=7\n",
        "total_colors=4\n",
        "edge_img=edge_detection(img,line_width,blur_value)\n",
        "quant_img=color_quantise(img,total_colors)"
      ],
      "metadata": {
        "id": "sLCnNOySxVur"
      },
      "execution_count": 7,
      "outputs": []
    },
    {
      "cell_type": "code",
      "source": [
        "blurred=cv2.bilateralFilter(quant_img,d=7,sigmaColor=200,sigmaSpace=200)\n",
        "cartoon=cv2.bitwise_and(blurred,blurred,mask=edge_img)\n",
        "cv2.imwrite('/content/cartoon1.jpg',cartoon)"
      ],
      "metadata": {
        "colab": {
          "base_uri": "https://localhost:8080/"
        },
        "id": "3dcL1J5VyRiQ",
        "outputId": "3c8a5b5d-a6b5-4101-d346-e6efd207052e"
      },
      "execution_count": 8,
      "outputs": [
        {
          "output_type": "execute_result",
          "data": {
            "text/plain": [
              "True"
            ]
          },
          "metadata": {},
          "execution_count": 8
        }
      ]
    },
    {
      "cell_type": "code",
      "source": [],
      "metadata": {
        "id": "E-Vw0mr0znjj"
      },
      "execution_count": null,
      "outputs": []
    }
  ]
}